{
 "cells": [
  {
   "cell_type": "code",
   "execution_count": 1,
   "metadata": {},
   "outputs": [],
   "source": [
    "# Import dependencies.\n",
    "import matplotlib\n",
    "from matplotlib import style\n",
    "style.use('fivethirtyeight')\n",
    "import matplotlib.pyplot as plt\n",
    "import pandas as pd\n",
    "\n",
    "# Python SQL toolkit and Object Relational Mapper\n",
    "import sqlalchemy\n",
    "from sqlalchemy.ext.automap import automap_base\n",
    "from sqlalchemy.orm import Session\n",
    "from sqlalchemy import create_engine, text, inspect, func"
   ]
  },
  {
   "cell_type": "code",
   "execution_count": 2,
   "metadata": {},
   "outputs": [],
   "source": [
    "engine = create_engine(\"sqlite:///open_university.sqlite\", echo=False)"
   ]
  },
  {
   "cell_type": "code",
   "execution_count": 3,
   "metadata": {},
   "outputs": [
    {
     "data": {
      "text/plain": [
       "id_student              13006575\n",
       "day                     13006575\n",
       "clicks                  13006575\n",
       "gender                  13006575\n",
       "imd_band                12264848\n",
       "highest_education       13006575\n",
       "age_band                13006575\n",
       "num_of_prev_attempts    13006575\n",
       "region                  13006575\n",
       "final_result            13006575\n",
       "dtype: int64"
      ]
     },
     "metadata": {},
     "output_type": "display_data"
    },
    {
     "data": {
      "text/html": [
       "<div>\n",
       "<style scoped>\n",
       "    .dataframe tbody tr th:only-of-type {\n",
       "        vertical-align: middle;\n",
       "    }\n",
       "\n",
       "    .dataframe tbody tr th {\n",
       "        vertical-align: top;\n",
       "    }\n",
       "\n",
       "    .dataframe thead th {\n",
       "        text-align: right;\n",
       "    }\n",
       "</style>\n",
       "<table border=\"1\" class=\"dataframe\">\n",
       "  <thead>\n",
       "    <tr style=\"text-align: right;\">\n",
       "      <th></th>\n",
       "      <th>id_student</th>\n",
       "      <th>day</th>\n",
       "      <th>clicks</th>\n",
       "      <th>gender</th>\n",
       "      <th>imd_band</th>\n",
       "      <th>highest_education</th>\n",
       "      <th>age_band</th>\n",
       "      <th>num_of_prev_attempts</th>\n",
       "      <th>region</th>\n",
       "      <th>final_result</th>\n",
       "    </tr>\n",
       "  </thead>\n",
       "  <tbody>\n",
       "    <tr>\n",
       "      <th>0</th>\n",
       "      <td>28400</td>\n",
       "      <td>-10</td>\n",
       "      <td>4</td>\n",
       "      <td>F</td>\n",
       "      <td>20-30%</td>\n",
       "      <td>HE Qualification</td>\n",
       "      <td>35-55</td>\n",
       "      <td>0</td>\n",
       "      <td>Scotland</td>\n",
       "      <td>Pass</td>\n",
       "    </tr>\n",
       "    <tr>\n",
       "      <th>1</th>\n",
       "      <td>28400</td>\n",
       "      <td>-10</td>\n",
       "      <td>1</td>\n",
       "      <td>F</td>\n",
       "      <td>20-30%</td>\n",
       "      <td>HE Qualification</td>\n",
       "      <td>35-55</td>\n",
       "      <td>0</td>\n",
       "      <td>Scotland</td>\n",
       "      <td>Pass</td>\n",
       "    </tr>\n",
       "    <tr>\n",
       "      <th>2</th>\n",
       "      <td>28400</td>\n",
       "      <td>-10</td>\n",
       "      <td>1</td>\n",
       "      <td>F</td>\n",
       "      <td>20-30%</td>\n",
       "      <td>HE Qualification</td>\n",
       "      <td>35-55</td>\n",
       "      <td>0</td>\n",
       "      <td>Scotland</td>\n",
       "      <td>Pass</td>\n",
       "    </tr>\n",
       "    <tr>\n",
       "      <th>3</th>\n",
       "      <td>28400</td>\n",
       "      <td>-10</td>\n",
       "      <td>11</td>\n",
       "      <td>F</td>\n",
       "      <td>20-30%</td>\n",
       "      <td>HE Qualification</td>\n",
       "      <td>35-55</td>\n",
       "      <td>0</td>\n",
       "      <td>Scotland</td>\n",
       "      <td>Pass</td>\n",
       "    </tr>\n",
       "    <tr>\n",
       "      <th>4</th>\n",
       "      <td>28400</td>\n",
       "      <td>-10</td>\n",
       "      <td>1</td>\n",
       "      <td>F</td>\n",
       "      <td>20-30%</td>\n",
       "      <td>HE Qualification</td>\n",
       "      <td>35-55</td>\n",
       "      <td>0</td>\n",
       "      <td>Scotland</td>\n",
       "      <td>Pass</td>\n",
       "    </tr>\n",
       "  </tbody>\n",
       "</table>\n",
       "</div>"
      ],
      "text/plain": [
       "   id_student  day  clicks gender imd_band highest_education age_band  \\\n",
       "0       28400  -10       4      F   20-30%  HE Qualification    35-55   \n",
       "1       28400  -10       1      F   20-30%  HE Qualification    35-55   \n",
       "2       28400  -10       1      F   20-30%  HE Qualification    35-55   \n",
       "3       28400  -10      11      F   20-30%  HE Qualification    35-55   \n",
       "4       28400  -10       1      F   20-30%  HE Qualification    35-55   \n",
       "\n",
       "   num_of_prev_attempts    region final_result  \n",
       "0                     0  Scotland         Pass  \n",
       "1                     0  Scotland         Pass  \n",
       "2                     0  Scotland         Pass  \n",
       "3                     0  Scotland         Pass  \n",
       "4                     0  Scotland         Pass  "
      ]
     },
     "metadata": {},
     "output_type": "display_data"
    }
   ],
   "source": [
    "dataset = engine.execute(text(\"\"\"\n",
    "SELECT sI.id_student, sVle.date, sVle.sum_click, sI.gender, sI.imd_band, sI.highest_education, sI.age_band, sI.num_of_prev_attempts, sI.region, sI.final_result\n",
    "FROM studentVle as sVle\n",
    "OUTER LEFT JOIN studentInfo as sI ON sI.id_student = sVle.id_student\n",
    "OUTER LEFT JOIN vle ON vle.id_site = sVle.id_site AND vle.code_module = sVle.id_site AND vle.code_presentation = sVle.code_presentation\n",
    "--LIMIT 30\n",
    "\"\"\")).fetchall()\n",
    "\n",
    "df = pd.DataFrame(dataset, columns=['id_student', 'day', 'clicks', 'gender', 'imd_band', 'highest_education', 'age_band', 'num_of_prev_attempts', 'region', 'final_result'])\n",
    "display(df.count())\n",
    "display(df.head())"
   ]
  },
  {
   "cell_type": "code",
   "execution_count": 12,
   "metadata": {},
   "outputs": [
    {
     "data": {
      "text/plain": [
       "id_student              17831\n",
       "day                       295\n",
       "clicks                    496\n",
       "gender                      2\n",
       "imd_band                   10\n",
       "highest_education           5\n",
       "age_band                    3\n",
       "num_of_prev_attempts        7\n",
       "region                     13\n",
       "final_result                4\n",
       "dtype: int64"
      ]
     },
     "metadata": {},
     "output_type": "display_data"
    }
   ],
   "source": [
    "\n",
    "\n",
    "# Count occurrences of each student ID\n",
    "student_counts = df['id_student'].value_counts()\n",
    "\n",
    "# Filter IDs that appear more than 100 times\n",
    "selected_students = student_counts[student_counts > 150].index\n",
    "\n",
    "# Filter the DataFrame based on selected IDs\n",
    "filtered_df = df[df['id_student'].isin(selected_students)]\n",
    "\n",
    "display(filtered_df.nunique())"
   ]
  },
  {
   "cell_type": "code",
   "execution_count": 13,
   "metadata": {},
   "outputs": [
    {
     "data": {
      "text/plain": [
       "id_student              5801\n",
       "day                      295\n",
       "clicks                   352\n",
       "gender                     1\n",
       "imd_band                  10\n",
       "highest_education          5\n",
       "age_band                   3\n",
       "num_of_prev_attempts       6\n",
       "region                    13\n",
       "final_result               2\n",
       "dtype: int64"
      ]
     },
     "execution_count": 13,
     "metadata": {},
     "output_type": "execute_result"
    }
   ],
   "source": [
    "# Filter the DataFrame for female students who passed (either 'Pass' or 'Distinction')\n",
    "female_passed = filtered_df[(filtered_df['gender'] == 'F') & (filtered_df['final_result'].isin(['Pass', 'Distinction']))]\n",
    "\n",
    "female_passed.nunique()\n",
    "\n",
    "# can filter based on gender, final_result, imd_band, highest_education, num_of_prev_attempts, age_band and region\n",
    "# view an interactive graph of the days vs cumlative interactions"
   ]
  }
 ],
 "metadata": {
  "kernelspec": {
   "display_name": "dev",
   "language": "python",
   "name": "python3"
  },
  "language_info": {
   "codemirror_mode": {
    "name": "ipython",
    "version": 3
   },
   "file_extension": ".py",
   "mimetype": "text/x-python",
   "name": "python",
   "nbconvert_exporter": "python",
   "pygments_lexer": "ipython3",
   "version": "3.10.13"
  }
 },
 "nbformat": 4,
 "nbformat_minor": 2
}
