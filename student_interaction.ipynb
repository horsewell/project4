{
 "cells": [
  {
   "cell_type": "code",
   "execution_count": 5,
   "metadata": {},
   "outputs": [],
   "source": [
    "# Import dependencies.\n",
    "import matplotlib\n",
    "from matplotlib import style\n",
    "style.use('fivethirtyeight')\n",
    "import matplotlib.pyplot as plt\n",
    "import pandas as pd\n",
    "\n",
    "# Python SQL toolkit and Object Relational Mapper\n",
    "import sqlalchemy\n",
    "from sqlalchemy.ext.automap import automap_base\n",
    "from sqlalchemy.orm import Session\n",
    "from sqlalchemy import create_engine, text, inspect, func"
   ]
  },
  {
   "cell_type": "code",
   "execution_count": 6,
   "metadata": {},
   "outputs": [],
   "source": [
    "engine = create_engine(\"sqlite:///open_university.sqlite\", echo=False)"
   ]
  },
  {
   "cell_type": "code",
   "execution_count": 24,
   "metadata": {},
   "outputs": [
    {
     "data": {
      "text/plain": [
       "day                     13006575\n",
       "clicks                  13006575\n",
       "gender                  13006575\n",
       "imd_band                12264848\n",
       "highest_education       13006575\n",
       "age_band                13006575\n",
       "num_of_prev_attempts    13006575\n",
       "region                  13006575\n",
       "final_result            13006575\n",
       "dtype: int64"
      ]
     },
     "metadata": {},
     "output_type": "display_data"
    },
    {
     "data": {
      "text/html": [
       "<div>\n",
       "<style scoped>\n",
       "    .dataframe tbody tr th:only-of-type {\n",
       "        vertical-align: middle;\n",
       "    }\n",
       "\n",
       "    .dataframe tbody tr th {\n",
       "        vertical-align: top;\n",
       "    }\n",
       "\n",
       "    .dataframe thead th {\n",
       "        text-align: right;\n",
       "    }\n",
       "</style>\n",
       "<table border=\"1\" class=\"dataframe\">\n",
       "  <thead>\n",
       "    <tr style=\"text-align: right;\">\n",
       "      <th></th>\n",
       "      <th>day</th>\n",
       "      <th>clicks</th>\n",
       "      <th>gender</th>\n",
       "      <th>imd_band</th>\n",
       "      <th>highest_education</th>\n",
       "      <th>age_band</th>\n",
       "      <th>num_of_prev_attempts</th>\n",
       "      <th>region</th>\n",
       "      <th>final_result</th>\n",
       "    </tr>\n",
       "  </thead>\n",
       "  <tbody>\n",
       "    <tr>\n",
       "      <th>0</th>\n",
       "      <td>-10</td>\n",
       "      <td>4</td>\n",
       "      <td>F</td>\n",
       "      <td>20-30%</td>\n",
       "      <td>HE Qualification</td>\n",
       "      <td>35-55</td>\n",
       "      <td>0</td>\n",
       "      <td>Scotland</td>\n",
       "      <td>Pass</td>\n",
       "    </tr>\n",
       "    <tr>\n",
       "      <th>1</th>\n",
       "      <td>-10</td>\n",
       "      <td>1</td>\n",
       "      <td>F</td>\n",
       "      <td>20-30%</td>\n",
       "      <td>HE Qualification</td>\n",
       "      <td>35-55</td>\n",
       "      <td>0</td>\n",
       "      <td>Scotland</td>\n",
       "      <td>Pass</td>\n",
       "    </tr>\n",
       "    <tr>\n",
       "      <th>2</th>\n",
       "      <td>-10</td>\n",
       "      <td>1</td>\n",
       "      <td>F</td>\n",
       "      <td>20-30%</td>\n",
       "      <td>HE Qualification</td>\n",
       "      <td>35-55</td>\n",
       "      <td>0</td>\n",
       "      <td>Scotland</td>\n",
       "      <td>Pass</td>\n",
       "    </tr>\n",
       "    <tr>\n",
       "      <th>3</th>\n",
       "      <td>-10</td>\n",
       "      <td>11</td>\n",
       "      <td>F</td>\n",
       "      <td>20-30%</td>\n",
       "      <td>HE Qualification</td>\n",
       "      <td>35-55</td>\n",
       "      <td>0</td>\n",
       "      <td>Scotland</td>\n",
       "      <td>Pass</td>\n",
       "    </tr>\n",
       "    <tr>\n",
       "      <th>4</th>\n",
       "      <td>-10</td>\n",
       "      <td>1</td>\n",
       "      <td>F</td>\n",
       "      <td>20-30%</td>\n",
       "      <td>HE Qualification</td>\n",
       "      <td>35-55</td>\n",
       "      <td>0</td>\n",
       "      <td>Scotland</td>\n",
       "      <td>Pass</td>\n",
       "    </tr>\n",
       "  </tbody>\n",
       "</table>\n",
       "</div>"
      ],
      "text/plain": [
       "   day  clicks gender imd_band highest_education age_band  \\\n",
       "0  -10       4      F   20-30%  HE Qualification    35-55   \n",
       "1  -10       1      F   20-30%  HE Qualification    35-55   \n",
       "2  -10       1      F   20-30%  HE Qualification    35-55   \n",
       "3  -10      11      F   20-30%  HE Qualification    35-55   \n",
       "4  -10       1      F   20-30%  HE Qualification    35-55   \n",
       "\n",
       "   num_of_prev_attempts    region final_result  \n",
       "0                     0  Scotland         Pass  \n",
       "1                     0  Scotland         Pass  \n",
       "2                     0  Scotland         Pass  \n",
       "3                     0  Scotland         Pass  \n",
       "4                     0  Scotland         Pass  "
      ]
     },
     "metadata": {},
     "output_type": "display_data"
    }
   ],
   "source": [
    "dataset = engine.execute(text(\"\"\"\n",
    "SELECT sVle.date, sVle.sum_click, sI.gender, sI.imd_band, sI.highest_education, sI.age_band, sI.num_of_prev_attempts, sI.region, sI.final_result\n",
    "FROM studentVle as sVle\n",
    "OUTER LEFT JOIN studentInfo as sI ON sI.id_student = sVle.id_student\n",
    "OUTER LEFT JOIN vle ON vle.id_site = sVle.id_site AND vle.code_module = sVle.id_site AND vle.code_presentation = sVle.code_presentation\n",
    "--LIMIT 30\n",
    "\"\"\")).fetchall()\n",
    "\n",
    "df = pd.DataFrame(dataset, columns=['day', 'clicks', 'gender', 'imd_band', 'highest_education', 'age_band', 'num_of_prev_attempts', 'region', 'final_result'])\n",
    "display(df.count())\n",
    "display(df.head())"
   ]
  },
  {
   "cell_type": "code",
   "execution_count": 33,
   "metadata": {},
   "outputs": [
    {
     "data": {
      "text/plain": [
       "day                     295\n",
       "clicks                  498\n",
       "gender                    2\n",
       "imd_band                 10\n",
       "highest_education         5\n",
       "age_band                  3\n",
       "num_of_prev_attempts      7\n",
       "region                   13\n",
       "final_result              4\n",
       "dtype: int64"
      ]
     },
     "metadata": {},
     "output_type": "display_data"
    },
    {
     "data": {
      "text/plain": [
       "array([-10,  -9,  -8,  -7,  -6,  -5,  -4,  -3,  -2,  -1,   0,   1,   2,\n",
       "         3,   4,   5,   6,   7,   8,   9,  10,  11,  12,  13,  14,  15,\n",
       "        16,  17,  18,  19,  20,  21,  22,  23,  24,  25,  26,  27,  28,\n",
       "        29,  30,  31,  32,  33,  34,  35,  36,  37,  38,  39,  40,  41,\n",
       "        42,  43,  44,  45,  46,  47,  48,  49,  50,  51,  52,  53,  54,\n",
       "        55,  56,  57,  58,  59,  60,  61,  62,  63,  64,  65,  66,  67,\n",
       "        68,  69,  70,  71,  72,  73,  74,  75,  76,  77,  78,  79,  80,\n",
       "        81,  82,  83,  84,  85,  86,  87,  88,  89,  90,  91,  92,  93,\n",
       "        94,  95,  96,  97,  98,  99, 100, 101, 102, 103, 104, 105, 106,\n",
       "       107, 108, 109, 110, 111, 112, 113, 114, 115, 116, 117, 118, 119,\n",
       "       120, 121, 122, 123, 124, 125, 126, 127, 128, 129, 130, 131, 132,\n",
       "       133, 134, 135, 136, 137, 138, 139, 140, 141, 142, 143, 144, 145,\n",
       "       146, 147, 148, 149, 150, 151, 152, 153, 154, 155, 156, 157, 158,\n",
       "       159, 160, 161, 162, 163, 164, 165, 166, 167, 168, 169, 170, 171,\n",
       "       172, 173, 174, 175, 176, 177, 178, 179, 180, 181, 182, 183, 184,\n",
       "       185, 186, 187, 188, 189, 190, 191, 192, 193, 194, 195, 196, 197,\n",
       "       198, 199, 200, 201, 202, 203, 204, 205, 206, 207, 208, 209, 210,\n",
       "       211, 212, 213, 214, 215, 216, 217, 218, 219, 220, 221, 222, 223,\n",
       "       224, 225, 226, 227, 228, 229, 230, 231, 232, 233, 234, 235, 236,\n",
       "       237, 238, 239, 240, 241, 242, 243, 244, 245, 246, 247, 248, 249,\n",
       "       250, 251, 252, 253, 254, 255, 256, 257, 258, 259, 260, 261, 262,\n",
       "       263, 264, 265, 266, 267, 268, -24, -23, -22, -21, -20, -19, -18,\n",
       "       -17, -16, -15, -14, -13, -12, -11, 269, -25])"
      ]
     },
     "metadata": {},
     "output_type": "display_data"
    },
    {
     "data": {
      "text/plain": [
       "array([   4,    1,   11,    8,    2,   15,   17,    3,    5,   19,    9,\n",
       "          7,   13,   22,   34,   18,   10,   14,   12,   29,    6,   25,\n",
       "         50,   16,   55,   20,   38,   43,   35,   32,   33,   24,   21,\n",
       "         27,   28,   62,   37,   39,   48,   23,   26,   30,   44,   51,\n",
       "         36,   31,   46,   61,   52,   41,   47,   49,   42,   64,   40,\n",
       "         53,   94,   76,   72,   58,  144,   63,   45,   65,   60,   90,\n",
       "         54,   59,   57,   73,   78,   67,   77,   88, 1326,  125,  187,\n",
       "        225,  618,   79,  182,   83,   89,  317,   86,  106,  198,  252,\n",
       "         56,   80,   66,  305,  164,   81,   93,  100,  105,   71,  121,\n",
       "        118,  217,   68,  649,  109,   98,   95,  161,  111,   87,  383,\n",
       "        318,   70,  174,  307,  421,  659,   74,  142,   75,  101,  103,\n",
       "        140,   91,   85,  110,  145,  269,  112,  171,  130,  261,   92,\n",
       "        104,  113,   84,  119,  108,  233,  206,   82,   69,  274,  288,\n",
       "        114,  306,  291,  297,  281,  300,  234,  126,  127,  279,  319,\n",
       "        228,  245,  209,  115,   96,  381,  133,  169,  102,  185,  212,\n",
       "        116,  124,  117,  204,   97,  160,  132,  151,  201,  223,   99,\n",
       "        154,  155,  266,  136,  135,  236,  186,  176,  148,  336,  334,\n",
       "        183,  194,  166,  158,  787,  131,  163,  931,  263,  312,  285,\n",
       "        200,  107,  175,  167,  450,  368,  173,  283,  280,  149,  156,\n",
       "        159,  141,  199,  181,  264,  235,  311,  262,  180,  184,  150,\n",
       "        255,  152,  325,  120,  323,  137,  386,  134,  196,  250,  332,\n",
       "        170,  188,  479,  434,  475,  308,  289,  301,  202,  193,  129,\n",
       "        253,  519,  271,  296,  292,  352,  192,  211,  165,  229,  455,\n",
       "        218,  222,  122, 1076,  380,  242,  265,  453,  143,  153,  238,\n",
       "        299,  303,  123,  310,  385,  221,  147,  351,  286,  216,  227,\n",
       "        146,  178,  294,  240,  372,  241,  256,  179,  872,  226,  207,\n",
       "       2664,  547,  213,  339,  552,  139,  246,  353,  361,  138,  177,\n",
       "        457,  335,  203,  168,  219,  275,  249,  258,  215,  273,  128,\n",
       "        172,  254,  157,  162,  195,  190,  371,  189,  243,  244,  340,\n",
       "        524,  998,  406,  277, 1517,  501,  224,  248,  612,  405,  718,\n",
       "        267, 1481,  197,  191,  379,  257,  633,  295,  327,  997,  367,\n",
       "        545,  237,  232,  220,  343,  302,  314,  358,  871, 1008,  346,\n",
       "        426,  579,  510,  482, 1003,  214,  474,  390,  395,  522,  239,\n",
       "        208,  558,  205,  272,  366,  587, 1996,  287,  534,  278, 1827,\n",
       "       1929,  247,  337,  284,  210,  251, 2853, 2143,  826,  259,  230,\n",
       "        655,  276,  268,  290,  328,  436,  459,  514, 6977, 3958,  401,\n",
       "        369,  511, 4953,  330, 4523,  412,  807, 1204,  331,  638,  360,\n",
       "        678, 1497,  415,  309,  420,  439,  469,  322,  231,  375, 1442,\n",
       "       4098,  542,  293,  460,  384,  326,  298,  646,  320,  260,  559,\n",
       "       3725,  378,  798,  270,  282,  354,  414,  557, 1357,  329,  616,\n",
       "        472,  555, 1836,  333,  516,  416,  410,  391,  411,  427,  345,\n",
       "        321,  313,  488,  444,  429,  365,  408,  404,  595,  864,  639,\n",
       "        525,  513,  432,  409,  577,  546,  417,  373,  686,  376,  341,\n",
       "        304,  500,  342,  518,  477,  440,  402,  324,  393,  487,  403,\n",
       "        316,  431,  355,  424,  356,  382,  387,  666,  362,  374,  755,\n",
       "        565,  470,  419])"
      ]
     },
     "metadata": {},
     "output_type": "display_data"
    },
    {
     "data": {
      "text/plain": [
       "array(['F', 'M'], dtype=object)"
      ]
     },
     "metadata": {},
     "output_type": "display_data"
    },
    {
     "data": {
      "text/plain": [
       "array(['20-30%', '30-40%', '50-60%', '80-90%', '60-70%', '40-50%',\n",
       "       '70-80%', None, '90-100%', '10-20', '0-10%'], dtype=object)"
      ]
     },
     "metadata": {},
     "output_type": "display_data"
    },
    {
     "data": {
      "text/plain": [
       "array(['HE Qualification', 'A Level or Equivalent', 'Lower Than A Level',\n",
       "       'Post Graduate Qualification', 'No Formal quals'], dtype=object)"
      ]
     },
     "metadata": {},
     "output_type": "display_data"
    },
    {
     "data": {
      "text/plain": [
       "array(['35-55', '0-35', '55<='], dtype=object)"
      ]
     },
     "metadata": {},
     "output_type": "display_data"
    },
    {
     "data": {
      "text/plain": [
       "array([0, 1, 2, 3, 4, 5, 6])"
      ]
     },
     "metadata": {},
     "output_type": "display_data"
    },
    {
     "data": {
      "text/plain": [
       "array(['Scotland', 'North Western Region', 'South East Region',\n",
       "       'West Midlands Region', 'Wales', 'East Anglian Region', 'Ireland',\n",
       "       'South West Region', 'South Region', 'East Midlands Region',\n",
       "       'Yorkshire Region', 'North Region', 'London Region'], dtype=object)"
      ]
     },
     "metadata": {},
     "output_type": "display_data"
    },
    {
     "data": {
      "text/plain": [
       "array(['Pass', 'Withdrawn', 'Fail', 'Distinction'], dtype=object)"
      ]
     },
     "metadata": {},
     "output_type": "display_data"
    }
   ],
   "source": [
    "display(df.nunique())\n",
    "display(df[\"day\"].unique())\n",
    "display(df[\"clicks\"].unique())\n",
    "display(df[\"gender\"].unique())\n",
    "display(df[\"imd_band\"].unique())\n",
    "display(df[\"highest_education\"].unique())\n",
    "display(df[\"age_band\"].unique())\n",
    "display(df[\"num_of_prev_attempts\"].unique())\n",
    "display(df[\"region\"].unique())\n",
    "display(df[\"final_result\"].unique())"
   ]
  },
  {
   "cell_type": "code",
   "execution_count": null,
   "metadata": {},
   "outputs": [],
   "source": [
    "# combine pass and distinction\n",
    "# combine widthdrawn and fail\n",
    "\n"
   ]
  }
 ],
 "metadata": {
  "kernelspec": {
   "display_name": "dev",
   "language": "python",
   "name": "python3"
  },
  "language_info": {
   "codemirror_mode": {
    "name": "ipython",
    "version": 3
   },
   "file_extension": ".py",
   "mimetype": "text/x-python",
   "name": "python",
   "nbconvert_exporter": "python",
   "pygments_lexer": "ipython3",
   "version": "3.10.13"
  }
 },
 "nbformat": 4,
 "nbformat_minor": 2
}
